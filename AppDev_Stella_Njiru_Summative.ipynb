{
 "cells": [
  {
   "cell_type": "code",
   "execution_count": 1,
   "metadata": {},
   "outputs": [],
   "source": [
    "import pandas as pd\n",
    "import numpy as np\n",
    "import matplotlib.pyplot as plt\n",
    "from sklearn.decomposition import PCA\n",
    "from sklearn import linear_model\n",
    "from sklearn.pipeline import Pipeline\n",
    "from sklearn.model_selection import train_test_split\n",
    "from sklearn.metrics import confusion_matrix, f1_score\n",
    "import pickle\n",
    "import requests\n",
    "import json\n",
    "import dash\n",
    "import dash_core_components as dcc\n",
    "import dash_html_components as html\n",
    "from dash.dependencies import Input, Output, State\n",
    "import plotly as py\n",
    "from plotly.graph_objs import *\n",
    "from flask import Flask\n",
    "import numpy as np\n",
    "import pandas as pd\n",
    "import os\n",
    "from datetime import datetime as dt\n",
    "import json\n",
    "import plotly.graph_objs as go\n",
    "from sklearn.metrics import confusion_matrix, f1_score\n",
    "\n",
    "%matplotlib inline"
   ]
  },
  {
   "cell_type": "code",
   "execution_count": 2,
   "metadata": {},
   "outputs": [],
   "source": [
    "data = pd.read_csv('cassandra.csv', sep = '\\t')"
   ]
  },
  {
   "cell_type": "code",
   "execution_count": 3,
   "metadata": {},
   "outputs": [
    {
     "data": {
      "text/html": [
       "<div>\n",
       "<style scoped>\n",
       "    .dataframe tbody tr th:only-of-type {\n",
       "        vertical-align: middle;\n",
       "    }\n",
       "\n",
       "    .dataframe tbody tr th {\n",
       "        vertical-align: top;\n",
       "    }\n",
       "\n",
       "    .dataframe thead th {\n",
       "        text-align: right;\n",
       "    }\n",
       "</style>\n",
       "<table border=\"1\" class=\"dataframe\">\n",
       "  <thead>\n",
       "    <tr style=\"text-align: right;\">\n",
       "      <th></th>\n",
       "      <th>time</th>\n",
       "      <th>GX</th>\n",
       "      <th>GY</th>\n",
       "      <th>GZ</th>\n",
       "    </tr>\n",
       "  </thead>\n",
       "  <tbody>\n",
       "    <tr>\n",
       "      <th>0</th>\n",
       "      <td>1563310860000</td>\n",
       "      <td>-1.26</td>\n",
       "      <td>0.065000</td>\n",
       "      <td>-1.195000</td>\n",
       "    </tr>\n",
       "    <tr>\n",
       "      <th>1</th>\n",
       "      <td>1563310920000</td>\n",
       "      <td>-1.40</td>\n",
       "      <td>0.200000</td>\n",
       "      <td>-1.240000</td>\n",
       "    </tr>\n",
       "    <tr>\n",
       "      <th>2</th>\n",
       "      <td>1563310980000</td>\n",
       "      <td>-1.33</td>\n",
       "      <td>0.130000</td>\n",
       "      <td>-1.325000</td>\n",
       "    </tr>\n",
       "    <tr>\n",
       "      <th>3</th>\n",
       "      <td>1563311040000</td>\n",
       "      <td>-1.30</td>\n",
       "      <td>0.110000</td>\n",
       "      <td>-1.300000</td>\n",
       "    </tr>\n",
       "    <tr>\n",
       "      <th>4</th>\n",
       "      <td>1563311100000</td>\n",
       "      <td>-1.02</td>\n",
       "      <td>-0.073333</td>\n",
       "      <td>-1.436667</td>\n",
       "    </tr>\n",
       "  </tbody>\n",
       "</table>\n",
       "</div>"
      ],
      "text/plain": [
       "            time    GX        GY        GZ\n",
       "0  1563310860000 -1.26  0.065000 -1.195000\n",
       "1  1563310920000 -1.40  0.200000 -1.240000\n",
       "2  1563310980000 -1.33  0.130000 -1.325000\n",
       "3  1563311040000 -1.30  0.110000 -1.300000\n",
       "4  1563311100000 -1.02 -0.073333 -1.436667"
      ]
     },
     "execution_count": 3,
     "metadata": {},
     "output_type": "execute_result"
    }
   ],
   "source": [
    "data.head()"
   ]
  },
  {
   "cell_type": "code",
   "execution_count": 4,
   "metadata": {},
   "outputs": [
    {
     "data": {
      "text/html": [
       "<div>\n",
       "<style scoped>\n",
       "    .dataframe tbody tr th:only-of-type {\n",
       "        vertical-align: middle;\n",
       "    }\n",
       "\n",
       "    .dataframe tbody tr th {\n",
       "        vertical-align: top;\n",
       "    }\n",
       "\n",
       "    .dataframe thead th {\n",
       "        text-align: right;\n",
       "    }\n",
       "</style>\n",
       "<table border=\"1\" class=\"dataframe\">\n",
       "  <thead>\n",
       "    <tr style=\"text-align: right;\">\n",
       "      <th></th>\n",
       "      <th>time</th>\n",
       "      <th>GX</th>\n",
       "      <th>GY</th>\n",
       "      <th>GZ</th>\n",
       "    </tr>\n",
       "  </thead>\n",
       "  <tbody>\n",
       "    <tr>\n",
       "      <th>count</th>\n",
       "      <td>1.943900e+04</td>\n",
       "      <td>19439.000000</td>\n",
       "      <td>19439.000000</td>\n",
       "      <td>19439.000000</td>\n",
       "    </tr>\n",
       "    <tr>\n",
       "      <th>mean</th>\n",
       "      <td>1.563894e+12</td>\n",
       "      <td>-1.300635</td>\n",
       "      <td>0.050662</td>\n",
       "      <td>-1.270023</td>\n",
       "    </tr>\n",
       "    <tr>\n",
       "      <th>std</th>\n",
       "      <td>3.367020e+08</td>\n",
       "      <td>0.107775</td>\n",
       "      <td>0.094775</td>\n",
       "      <td>0.113985</td>\n",
       "    </tr>\n",
       "    <tr>\n",
       "      <th>min</th>\n",
       "      <td>1.563311e+12</td>\n",
       "      <td>-1.760000</td>\n",
       "      <td>-0.634722</td>\n",
       "      <td>-1.707376</td>\n",
       "    </tr>\n",
       "    <tr>\n",
       "      <th>25%</th>\n",
       "      <td>1.563602e+12</td>\n",
       "      <td>-1.370000</td>\n",
       "      <td>-0.009350</td>\n",
       "      <td>-1.353623</td>\n",
       "    </tr>\n",
       "    <tr>\n",
       "      <th>50%</th>\n",
       "      <td>1.563894e+12</td>\n",
       "      <td>-1.305385</td>\n",
       "      <td>0.071388</td>\n",
       "      <td>-1.286667</td>\n",
       "    </tr>\n",
       "    <tr>\n",
       "      <th>75%</th>\n",
       "      <td>1.564186e+12</td>\n",
       "      <td>-1.240000</td>\n",
       "      <td>0.096826</td>\n",
       "      <td>-1.190000</td>\n",
       "    </tr>\n",
       "    <tr>\n",
       "      <th>max</th>\n",
       "      <td>1.564477e+12</td>\n",
       "      <td>-0.690000</td>\n",
       "      <td>0.520000</td>\n",
       "      <td>-0.790000</td>\n",
       "    </tr>\n",
       "  </tbody>\n",
       "</table>\n",
       "</div>"
      ],
      "text/plain": [
       "               time            GX            GY            GZ\n",
       "count  1.943900e+04  19439.000000  19439.000000  19439.000000\n",
       "mean   1.563894e+12     -1.300635      0.050662     -1.270023\n",
       "std    3.367020e+08      0.107775      0.094775      0.113985\n",
       "min    1.563311e+12     -1.760000     -0.634722     -1.707376\n",
       "25%    1.563602e+12     -1.370000     -0.009350     -1.353623\n",
       "50%    1.563894e+12     -1.305385      0.071388     -1.286667\n",
       "75%    1.564186e+12     -1.240000      0.096826     -1.190000\n",
       "max    1.564477e+12     -0.690000      0.520000     -0.790000"
      ]
     },
     "execution_count": 4,
     "metadata": {},
     "output_type": "execute_result"
    }
   ],
   "source": [
    "data.describe()"
   ]
  },
  {
   "cell_type": "code",
   "execution_count": 5,
   "metadata": {},
   "outputs": [
    {
     "data": {
      "text/plain": [
       "time      int64\n",
       "GX      float64\n",
       "GY      float64\n",
       "GZ      float64\n",
       "dtype: object"
      ]
     },
     "execution_count": 5,
     "metadata": {},
     "output_type": "execute_result"
    }
   ],
   "source": [
    "data.dtypes"
   ]
  },
  {
   "cell_type": "code",
   "execution_count": 6,
   "metadata": {},
   "outputs": [],
   "source": [
    "number_features = len(data.columns)"
   ]
  },
  {
   "cell_type": "code",
   "execution_count": 7,
   "metadata": {},
   "outputs": [
    {
     "data": {
      "image/png": "[encoded data removed]",
      "text/plain": [
       "<Figure size 432x288 with 1 Axes>"
      ]
     },
     "metadata": {
      "needs_background": "light"
     },
     "output_type": "display_data"
    }
   ],
   "source": [
    "boxplot = data.boxplot(column=['GX', 'GY', 'GZ'])"
   ]
  },
  {
   "cell_type": "markdown",
   "metadata": {},
   "source": [
    "# Feature Engineering \n",
    "\n",
    "The boxplot above clearly shows some outliers. The next step is to find the most important features for us to consider for the model. In this case, we will have to come up with some extra columns.\n"
   ]
  },
  {
   "cell_type": "code",
   "execution_count": 8,
   "metadata": {
    "scrolled": true
   },
   "outputs": [
    {
     "data": {
      "text/html": [
       "<div>\n",
       "<style scoped>\n",
       "    .dataframe tbody tr th:only-of-type {\n",
       "        vertical-align: middle;\n",
       "    }\n",
       "\n",
       "    .dataframe tbody tr th {\n",
       "        vertical-align: top;\n",
       "    }\n",
       "\n",
       "    .dataframe thead th {\n",
       "        text-align: right;\n",
       "    }\n",
       "</style>\n",
       "<table border=\"1\" class=\"dataframe\">\n",
       "  <thead>\n",
       "    <tr style=\"text-align: right;\">\n",
       "      <th></th>\n",
       "      <th>time</th>\n",
       "      <th>GX</th>\n",
       "      <th>GY</th>\n",
       "      <th>GZ</th>\n",
       "      <th>GX_Error</th>\n",
       "      <th>GY_Error</th>\n",
       "      <th>GZ_Error</th>\n",
       "      <th>Error</th>\n",
       "    </tr>\n",
       "  </thead>\n",
       "  <tbody>\n",
       "    <tr>\n",
       "      <th>0</th>\n",
       "      <td>1563310860000</td>\n",
       "      <td>-1.260000</td>\n",
       "      <td>0.065000</td>\n",
       "      <td>-1.195000</td>\n",
       "      <td>0</td>\n",
       "      <td>0</td>\n",
       "      <td>0</td>\n",
       "      <td>0</td>\n",
       "    </tr>\n",
       "    <tr>\n",
       "      <th>1</th>\n",
       "      <td>1563310920000</td>\n",
       "      <td>-1.400000</td>\n",
       "      <td>0.200000</td>\n",
       "      <td>-1.240000</td>\n",
       "      <td>0</td>\n",
       "      <td>0</td>\n",
       "      <td>0</td>\n",
       "      <td>0</td>\n",
       "    </tr>\n",
       "    <tr>\n",
       "      <th>2</th>\n",
       "      <td>1563310980000</td>\n",
       "      <td>-1.330000</td>\n",
       "      <td>0.130000</td>\n",
       "      <td>-1.325000</td>\n",
       "      <td>0</td>\n",
       "      <td>0</td>\n",
       "      <td>0</td>\n",
       "      <td>0</td>\n",
       "    </tr>\n",
       "    <tr>\n",
       "      <th>3</th>\n",
       "      <td>1563311040000</td>\n",
       "      <td>-1.300000</td>\n",
       "      <td>0.110000</td>\n",
       "      <td>-1.300000</td>\n",
       "      <td>0</td>\n",
       "      <td>0</td>\n",
       "      <td>0</td>\n",
       "      <td>0</td>\n",
       "    </tr>\n",
       "    <tr>\n",
       "      <th>4</th>\n",
       "      <td>1563311100000</td>\n",
       "      <td>-1.020000</td>\n",
       "      <td>-0.073333</td>\n",
       "      <td>-1.436667</td>\n",
       "      <td>0</td>\n",
       "      <td>0</td>\n",
       "      <td>0</td>\n",
       "      <td>0</td>\n",
       "    </tr>\n",
       "    <tr>\n",
       "      <th>5</th>\n",
       "      <td>1563311160000</td>\n",
       "      <td>-1.363333</td>\n",
       "      <td>-0.016667</td>\n",
       "      <td>-1.350000</td>\n",
       "      <td>0</td>\n",
       "      <td>0</td>\n",
       "      <td>0</td>\n",
       "      <td>0</td>\n",
       "    </tr>\n",
       "    <tr>\n",
       "      <th>6</th>\n",
       "      <td>1563311220000</td>\n",
       "      <td>-1.225000</td>\n",
       "      <td>0.095000</td>\n",
       "      <td>-1.210000</td>\n",
       "      <td>0</td>\n",
       "      <td>0</td>\n",
       "      <td>0</td>\n",
       "      <td>0</td>\n",
       "    </tr>\n",
       "    <tr>\n",
       "      <th>7</th>\n",
       "      <td>1563311280000</td>\n",
       "      <td>-1.130000</td>\n",
       "      <td>0.120000</td>\n",
       "      <td>-1.200000</td>\n",
       "      <td>0</td>\n",
       "      <td>0</td>\n",
       "      <td>0</td>\n",
       "      <td>0</td>\n",
       "    </tr>\n",
       "    <tr>\n",
       "      <th>8</th>\n",
       "      <td>1563311340000</td>\n",
       "      <td>-0.980000</td>\n",
       "      <td>-0.020000</td>\n",
       "      <td>-1.280000</td>\n",
       "      <td>1</td>\n",
       "      <td>0</td>\n",
       "      <td>0</td>\n",
       "      <td>1</td>\n",
       "    </tr>\n",
       "    <tr>\n",
       "      <th>9</th>\n",
       "      <td>1563311400000</td>\n",
       "      <td>-1.120000</td>\n",
       "      <td>0.020000</td>\n",
       "      <td>-1.200000</td>\n",
       "      <td>0</td>\n",
       "      <td>0</td>\n",
       "      <td>0</td>\n",
       "      <td>0</td>\n",
       "    </tr>\n",
       "  </tbody>\n",
       "</table>\n",
       "</div>"
      ],
      "text/plain": [
       "            time        GX        GY        GZ  GX_Error  GY_Error  GZ_Error  \\\n",
       "0  1563310860000 -1.260000  0.065000 -1.195000         0         0         0   \n",
       "1  1563310920000 -1.400000  0.200000 -1.240000         0         0         0   \n",
       "2  1563310980000 -1.330000  0.130000 -1.325000         0         0         0   \n",
       "3  1563311040000 -1.300000  0.110000 -1.300000         0         0         0   \n",
       "4  1563311100000 -1.020000 -0.073333 -1.436667         0         0         0   \n",
       "5  1563311160000 -1.363333 -0.016667 -1.350000         0         0         0   \n",
       "6  1563311220000 -1.225000  0.095000 -1.210000         0         0         0   \n",
       "7  1563311280000 -1.130000  0.120000 -1.200000         0         0         0   \n",
       "8  1563311340000 -0.980000 -0.020000 -1.280000         1         0         0   \n",
       "9  1563311400000 -1.120000  0.020000 -1.200000         0         0         0   \n",
       "\n",
       "   Error  \n",
       "0      0  \n",
       "1      0  \n",
       "2      0  \n",
       "3      0  \n",
       "4      0  \n",
       "5      0  \n",
       "6      0  \n",
       "7      0  \n",
       "8      1  \n",
       "9      0  "
      ]
     },
     "execution_count": 8,
     "metadata": {},
     "output_type": "execute_result"
    }
   ],
   "source": [
    "data['GX_Error'] = np.where((data['GX'] < -1.6) | (data['GX'] > -1), 1, 0 )\n",
    "data['GY_Error'] = np.where((data['GY'] < -0.25) | (data['GY'] > 0.25), 1, 0 )\n",
    "data['GZ_Error'] = np.where((data['GZ'] < -1.5) | (data['GZ'] > -0.8), 1, 0 )\n",
    "data['Error'] = np.where((data['GX_Error'] == 1) | (data['GY_Error'] == 1)| (data['GZ_Error'] == 1), 1, 0 )\n",
    "data.head(10)"
   ]
  },
  {
   "cell_type": "markdown",
   "metadata": {},
   "source": [
    "# Getting X and Y values"
   ]
  },
  {
   "cell_type": "code",
   "execution_count": 9,
   "metadata": {},
   "outputs": [],
   "source": [
    "# Target variables\n",
    "y = data['Error'].values\n",
    "\n",
    "#Attribute variable\n",
    "\n",
    "data = data.drop(['Error', 'GX_Error','GY_Error', 'GZ_Error' ], axis=1)\n",
    "X = data.values\n"
   ]
  },
  {
   "cell_type": "code",
   "execution_count": 10,
   "metadata": {},
   "outputs": [
    {
     "data": {
      "text/plain": [
       "PCA(copy=True, iterated_power='auto', n_components=4, random_state=None,\n",
       "  svd_solver='auto', tol=0.0, whiten=False)"
      ]
     },
     "execution_count": 10,
     "metadata": {},
     "output_type": "execute_result"
    }
   ],
   "source": [
    "pca=PCA(n_components=number_features)                                    \n",
    "pca.fit(X) "
   ]
  },
  {
   "cell_type": "markdown",
   "metadata": {},
   "source": [
    "# Cumulative sum of variance explained with features"
   ]
  },
  {
   "cell_type": "code",
   "execution_count": 11,
   "metadata": {},
   "outputs": [
    {
     "data": {
      "text/plain": [
       "array([100., 100., 100., 100.])"
      ]
     },
     "execution_count": 11,
     "metadata": {},
     "output_type": "execute_result"
    }
   ],
   "source": [
    "variance = np.cumsum(np.round(pca.explained_variance_ratio_, decimals=3)*100)\n",
    "variance"
   ]
  },
  {
   "cell_type": "code",
   "execution_count": 12,
   "metadata": {},
   "outputs": [],
   "source": [
    "pca = PCA(n_components=4)\n",
    "X_r = pca.fit(X).transform(X)\n",
    "\n",
    "logistic = linear_model.LogisticRegression()\n",
    "pipeline = Pipeline(steps=[('pca', pca), ('logistic', logistic)])"
   ]
  },
  {
   "cell_type": "code",
   "execution_count": 13,
   "metadata": {},
   "outputs": [],
   "source": [
    "X_train, X_test, y_train, y_test = train_test_split(X, y, test_size=0.3, random_state=0)"
   ]
  },
  {
   "cell_type": "code",
   "execution_count": 14,
   "metadata": {},
   "outputs": [
    {
     "name": "stderr",
     "output_type": "stream",
     "text": [
      "C:\\ProgramData\\Anaconda3\\lib\\site-packages\\sklearn\\linear_model\\logistic.py:433: FutureWarning:\n",
      "\n",
      "Default solver will be changed to 'lbfgs' in 0.22. Specify a solver to silence this warning.\n",
      "\n"
     ]
    },
    {
     "data": {
      "text/plain": [
       "Pipeline(memory=None,\n",
       "     steps=[('pca', PCA(copy=True, iterated_power='auto', n_components=4, random_state=None,\n",
       "  svd_solver='auto', tol=0.0, whiten=False)), ('logistic', LogisticRegression(C=1.0, class_weight=None, dual=False, fit_intercept=True,\n",
       "          intercept_scaling=1, max_iter=100, multi_class='warn',\n",
       "          n_jobs=None, penalty='l2', random_state=None, solver='warn',\n",
       "          tol=0.0001, verbose=0, warm_start=False))])"
      ]
     },
     "execution_count": 14,
     "metadata": {},
     "output_type": "execute_result"
    }
   ],
   "source": [
    "pipeline.fit(X_train, y_train)"
   ]
  },
  {
   "cell_type": "code",
   "execution_count": 15,
   "metadata": {},
   "outputs": [
    {
     "data": {
      "text/plain": [
       "0.5142318244170097"
      ]
     },
     "execution_count": 15,
     "metadata": {},
     "output_type": "execute_result"
    }
   ],
   "source": [
    "pipeline.score(X_test, y_test)"
   ]
  },
  {
   "cell_type": "markdown",
   "metadata": {},
   "source": [
    "# Saving the model"
   ]
  },
  {
   "cell_type": "code",
   "execution_count": 16,
   "metadata": {},
   "outputs": [],
   "source": [
    "filename = 'final_model.pkl'\n",
    "pickle.dump(pipeline, open('final_model.pkl', 'wb'))"
   ]
  },
  {
   "cell_type": "markdown",
   "metadata": {},
   "source": [
    "# The Application"
   ]
  },
  {
   "cell_type": "code",
   "execution_count": 17,
   "metadata": {},
   "outputs": [],
   "source": [
    "services = os.getenv(\"VCAP_SERVICES\")\n",
    "port = None\n",
    "\n",
    "if services is not None:\n",
    "    vcap = json.loads(services)\n",
    "    port = int(os.getenv(\"PORT\"))"
   ]
  },
  {
   "cell_type": "code",
   "execution_count": 18,
   "metadata": {},
   "outputs": [],
   "source": [
    "external_css = [\"https://cdnjs.cloudflare.com/ajax/libs/skeleton/2.0.4/skeleton.min.css\",\n",
    "                \"https://fonts.googleapis.com/css?family=Raleway:400,400i,700,700i\",\n",
    "                \"https://fonts.googleapis.com/css?family=Product+Sans:400,400i,700,700i\"]\n",
    "\n",
    "app = dash.Dash(\n",
    "    'streaming-SUMon-app',\n",
    "    external_stylesheets=external_css\n",
    ")\n",
    "server = app.server\n",
    "\n",
    "app.css.config.serve_locally = True\n",
    "app.scripts.config.serve_locally = True"
   ]
  },
  {
   "cell_type": "code",
   "execution_count": 19,
   "metadata": {},
   "outputs": [],
   "source": [
    "df = pd.read_csv('cassandra10s.csv', sep = '\\t')"
   ]
  },
  {
   "cell_type": "code",
   "execution_count": 20,
   "metadata": {},
   "outputs": [
    {
     "name": "stderr",
     "output_type": "stream",
     "text": [
      "C:\\ProgramData\\Anaconda3\\lib\\site-packages\\ipykernel_launcher.py:1: RuntimeWarning:\n",
      "\n",
      "invalid value encountered in sqrt\n",
      "\n"
     ]
    }
   ],
   "source": [
    "df['magnitude'] = np.sqrt((df['GX']**2 + df['GY']**2 + df['GY']**3))"
   ]
  },
  {
   "cell_type": "code",
   "execution_count": 21,
   "metadata": {},
   "outputs": [
    {
     "data": {
      "text/html": [
       "<div>\n",
       "<style scoped>\n",
       "    .dataframe tbody tr th:only-of-type {\n",
       "        vertical-align: middle;\n",
       "    }\n",
       "\n",
       "    .dataframe tbody tr th {\n",
       "        vertical-align: top;\n",
       "    }\n",
       "\n",
       "    .dataframe thead th {\n",
       "        text-align: right;\n",
       "    }\n",
       "</style>\n",
       "<table border=\"1\" class=\"dataframe\">\n",
       "  <thead>\n",
       "    <tr style=\"text-align: right;\">\n",
       "      <th></th>\n",
       "      <th>time</th>\n",
       "      <th>GX</th>\n",
       "      <th>GY</th>\n",
       "      <th>GZ</th>\n",
       "      <th>magnitude</th>\n",
       "    </tr>\n",
       "  </thead>\n",
       "  <tbody>\n",
       "    <tr>\n",
       "      <th>0</th>\n",
       "      <td>1563310810000</td>\n",
       "      <td>-1.280000</td>\n",
       "      <td>0.030000</td>\n",
       "      <td>-1.146</td>\n",
       "      <td>1.280362</td>\n",
       "    </tr>\n",
       "    <tr>\n",
       "      <th>1</th>\n",
       "      <td>1563310820000</td>\n",
       "      <td>-1.400000</td>\n",
       "      <td>-0.013333</td>\n",
       "      <td>-1.210</td>\n",
       "      <td>1.400063</td>\n",
       "    </tr>\n",
       "    <tr>\n",
       "      <th>2</th>\n",
       "      <td>1563310830000</td>\n",
       "      <td>-1.300000</td>\n",
       "      <td>-0.020000</td>\n",
       "      <td>-1.110</td>\n",
       "      <td>1.300151</td>\n",
       "    </tr>\n",
       "    <tr>\n",
       "      <th>3</th>\n",
       "      <td>1563310840000</td>\n",
       "      <td>-1.316667</td>\n",
       "      <td>0.066667</td>\n",
       "      <td>-1.190</td>\n",
       "      <td>1.318466</td>\n",
       "    </tr>\n",
       "    <tr>\n",
       "      <th>4</th>\n",
       "      <td>1563310850000</td>\n",
       "      <td>-1.050000</td>\n",
       "      <td>0.040000</td>\n",
       "      <td>-1.220</td>\n",
       "      <td>1.050792</td>\n",
       "    </tr>\n",
       "  </tbody>\n",
       "</table>\n",
       "</div>"
      ],
      "text/plain": [
       "            time        GX        GY     GZ  magnitude\n",
       "0  1563310810000 -1.280000  0.030000 -1.146   1.280362\n",
       "1  1563310820000 -1.400000 -0.013333 -1.210   1.400063\n",
       "2  1563310830000 -1.300000 -0.020000 -1.110   1.300151\n",
       "3  1563310840000 -1.316667  0.066667 -1.190   1.318466\n",
       "4  1563310850000 -1.050000  0.040000 -1.220   1.050792"
      ]
     },
     "execution_count": 21,
     "metadata": {},
     "output_type": "execute_result"
    }
   ],
   "source": [
    "df.head()"
   ]
  },
  {
   "cell_type": "code",
   "execution_count": 22,
   "metadata": {},
   "outputs": [],
   "source": [
    "df['time'] = pd.to_datetime(df['time'], unit = 'ms')"
   ]
  },
  {
   "cell_type": "code",
   "execution_count": 23,
   "metadata": {},
   "outputs": [],
   "source": [
    "# dropdown options from the dataframe\n",
    "features = df.columns[1:4]\n",
    "opts = [{'label' : i, 'value' : i} for i in features]"
   ]
  },
  {
   "cell_type": "code",
   "execution_count": 24,
   "metadata": {},
   "outputs": [],
   "source": [
    "# Create a Dash layout\n",
    "\n",
    "\n",
    "app.layout = html.Div([\n",
    "                # a header and a paragraph\n",
    "                html.Div([\n",
    "                    html.H1(\"Turbine Dashboard\"),],\n",
    "                     style = {'padding' : '50px' ,\n",
    "                              'backgroundColor' : '#3aaab2'}),\n",
    "               \n",
    "                # adding first anad second graph\n",
    "                dcc.Graph(id = 'plot1'),\n",
    "                dcc.Graph(id = 'plot2'),\n",
    "               \n",
    "                \n",
    "                # dropdown\n",
    "                html.P([\n",
    "                    html.Label(\"Choose a Turbine\"),\n",
    "                    dcc.Dropdown(id = 'opt', options = opts,\n",
    "                                value = opts[0])\n",
    "                        ], style = {'width': '400px',\n",
    "                                    'fontSize' : '20px',\n",
    "                                    'padding-left' : '100px',\n",
    "                                    'display': 'inline-block'}),\n",
    "                             # adding third graph\n",
    "             \n",
    "            dcc.Graph(id = 'plot3'),\n",
    "            \n",
    "    \n",
    "    \n",
    "    ])\n"
   ]
  },
  {
   "cell_type": "code",
   "execution_count": 25,
   "metadata": {},
   "outputs": [],
   "source": [
    "# populating the first graph\n",
    "@app.callback(Output('plot1', 'figure'),\n",
    "             [Input('opt', 'value')])\n",
    "\n",
    "def update_figure1(value):\n",
    "    trace_1 = go.Line(x = df.time, y = df['GX'],\n",
    "                     name = 'GX',\n",
    "                     line = dict(width = 5,\n",
    "                                 color = 'Red'))\n",
    "    trace_2 = go.Line(x = df.time, y = df['GY'],\n",
    "                     name = 'GY',\n",
    "                     line = dict(width = 5,\n",
    "                                 color = 'yellow'))\n",
    "    trace_3 = go.Line(x = df.time, y = df['GZ'],\n",
    "                     name = 'GZ',\n",
    "                     line = dict(width = 5,\n",
    "                                 color = 'green'))\n",
    "    layout = go.Layout(title = 'Time Series Plot for GX, GY and GZ',\n",
    "                   hovermode = 'closest')\n",
    "    fig = go.Figure(data = [trace_1, trace_2, trace_3], layout = layout)\n",
    "    return fig\n",
    "    "
   ]
  },
  {
   "cell_type": "code",
   "execution_count": 26,
   "metadata": {},
   "outputs": [],
   "source": [
    "# populating the second graph\n",
    "@app.callback(Output('plot2', 'figure'),\n",
    "             [Input('opt', 'value')])\n",
    "\n",
    "def update_figure2(value):\n",
    "    trace = go.Scatter(x = df['time'], y = df['magnitude'],\n",
    "                       name = 'magnitue',\n",
    "                       line = dict(width = 2,\n",
    "                                   color = 'blue'))\n",
    "    layout = go.Layout(title = 'Magnitude',\n",
    "                   hovermode = 'closest')\n",
    "    fig = go.Figure(data = [trace], layout = layout)\n",
    "    return fig\n",
    "    "
   ]
  },
  {
   "cell_type": "code",
   "execution_count": 27,
   "metadata": {},
   "outputs": [],
   "source": [
    "# populating the third graph\n",
    "@app.callback(Output('plot3', 'figure'),\n",
    "             [Input('opt', 'value')])\n",
    "\n",
    "def update_figure3(figure):\n",
    "    if 'opt' == 'GX':\n",
    "        trace = go.Scatter(x = df['time'], y = df['GX'],\n",
    "                       line = dict(width = 2,\n",
    "                                   color = 'blue'))\n",
    "        layout = go.Layout(title = '',\n",
    "                   hovermode = 'closest')\n",
    "        \n",
    "        #fig = go.Figure(data = [trace], layout = layout)\n",
    "     \n",
    "    \n",
    "    elif 'opt' == 'GY':\n",
    "        trace = go.Scatter(x = df['time'], y = df['GY'],\n",
    "                       line = dict(width = 2,\n",
    "                                   color = 'yellow'))\n",
    "        layout = go.Layout(hovermode = 'closest')\n",
    "       \n",
    "        #fig = go.Figure(data = [trace], layout = layout)\n",
    "       \n",
    "        \n",
    "    else:\n",
    "        trace = go.Scatter(x = df['time'], y = df['GZ'],\n",
    "                       line = dict(width = 2,\n",
    "                                   color = 'green'))\n",
    "        \n",
    "        layout = go.Layout(hovermode = 'closest')\n",
    "       \n",
    "        fig = go.Figure(data = [trace], layout = layout)\n",
    "        \n",
    "        return fig\n"
   ]
  },
  {
   "cell_type": "code",
   "execution_count": 28,
   "metadata": {},
   "outputs": [
    {
     "name": "stdout",
     "output_type": "stream",
     "text": [
      " * Serving Flask app \"streaming-SUMon-app\" (lazy loading)\n",
      " * Environment: production\n",
      "   WARNING: Do not use the development server in a production environment.\n",
      "   Use a production WSGI server instead.\n",
      " * Debug mode: off\n"
     ]
    },
    {
     "name": "stderr",
     "output_type": "stream",
     "text": [
      " * Running on http://127.0.0.1:8050/ (Press CTRL+C to quit)\n",
      "127.0.0.1 - - [09/Oct/2019 21:09:57] \"GET / HTTP/1.1\" 200 -\n",
      "127.0.0.1 - - [09/Oct/2019 21:09:57] \"GET /_dash-component-suites/dash_core_components/highlight.pack.js?v=1.0.0&m=1563307603 HTTP/1.1\" 200 -\n",
      "127.0.0.1 - - [09/Oct/2019 21:09:57] \"GET /_dash-component-suites/dash_renderer/dash_renderer.min.js?v=1.0.0&m=1561062262 HTTP/1.1\" 200 -\n",
      "127.0.0.1 - - [09/Oct/2019 21:09:57] \"GET /_dash-component-suites/dash_renderer/prop-types@15.7.2.min.js?v=1.0.0&m=1561062262 HTTP/1.1\" 200 -\n",
      "127.0.0.1 - - [09/Oct/2019 21:09:57] \"GET /_dash-component-suites/dash_html_components/dash_html_components.min.js?v=1.0.0&m=1561063963 HTTP/1.1\" 200 -\n",
      "127.0.0.1 - - [09/Oct/2019 21:09:57] \"GET /_dash-component-suites/dash_renderer/react@16.8.6.min.js?v=1.0.0&m=1561062262 HTTP/1.1\" 200 -\n",
      "127.0.0.1 - - [09/Oct/2019 21:09:57] \"GET /_dash-component-suites/dash_renderer/react-dom@16.8.6.min.js?v=1.0.0&m=1561062262 HTTP/1.1\" 200 -\n",
      "127.0.0.1 - - [09/Oct/2019 21:09:57] \"GET /_dash-component-suites/dash_core_components/dash_core_components.min.js?v=1.0.0&m=1563307603 HTTP/1.1\" 200 -\n",
      "127.0.0.1 - - [09/Oct/2019 21:09:57] \"GET /_dash-component-suites/dash_core_components/plotly-1.48.3.min.js?v=1.0.0&m=1563307603 HTTP/1.1\" 200 -\n",
      "127.0.0.1 - - [09/Oct/2019 21:09:59] \"GET /_dash-dependencies HTTP/1.1\" 200 -\n",
      "127.0.0.1 - - [09/Oct/2019 21:09:59] \"GET /_dash-layout HTTP/1.1\" 200 -\n",
      "C:\\ProgramData\\Anaconda3\\lib\\site-packages\\plotly\\graph_objs\\_deprecations.py:385: DeprecationWarning:\n",
      "\n",
      "plotly.graph_objs.Line is deprecated.\n",
      "Please replace it with one of the following more specific types\n",
      "  - plotly.graph_objs.scatter.Line\n",
      "  - plotly.graph_objs.layout.shape.Line\n",
      "  - etc.\n",
      "\n",
      "\n",
      "127.0.0.1 - - [09/Oct/2019 21:10:28] \"POST /_dash-update-component HTTP/1.1\" 200 -\n",
      "127.0.0.1 - - [09/Oct/2019 21:10:28] \"POST /_dash-update-component HTTP/1.1\" 200 -\n",
      "127.0.0.1 - - [09/Oct/2019 21:10:36] \"POST /_dash-update-component HTTP/1.1\" 200 -\n"
     ]
    }
   ],
   "source": [
    "if __name__ == '__main__':\n",
    "    if port is not None:\n",
    "        app.run_server(host='0.0.0.0', port=port)\n",
    "\n",
    "    else:\n",
    "        app.run_server()"
   ]
  },
  {
   "cell_type": "code",
   "execution_count": null,
   "metadata": {},
   "outputs": [],
   "source": []
  }
 ],
 "metadata": {
  "kernelspec": {
   "display_name": "Python 3",
   "language": "python",
   "name": "python3"
  },
  "language_info": {
   "codemirror_mode": {
    "name": "ipython",
    "version": 3
   },
   "file_extension": ".py",
   "mimetype": "text/x-python",
   "name": "python",
   "nbconvert_exporter": "python",
   "pygments_lexer": "ipython3",
   "version": "3.7.3"
  }
 },
 "nbformat": 4,
 "nbformat_minor": 2
}
